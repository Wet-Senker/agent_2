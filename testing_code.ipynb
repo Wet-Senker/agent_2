{
 "cells": [
  {
   "cell_type": "code",
   "execution_count": 2,
   "id": "ef2088b6",
   "metadata": {},
   "outputs": [],
   "source": [
    "import os\n",
    "from dotenv import load_dotenv\n",
    "from google import genai\n",
    "\n",
    "load_dotenv()\n",
    "api_key = os.environ.get(\"GEMINI_API_KEY\")\n",
    "\n",
    "client = genai.Client(api_key=api_key)"
   ]
  },
  {
   "cell_type": "code",
   "execution_count": 3,
   "id": "c36ebe51",
   "metadata": {},
   "outputs": [],
   "source": [
    "response = client.models.generate_content(\n",
    "    model='gemini-2.0-flash-001', contents='Why is Boot.dev such a great place to learn backend development? Use one paragraph maximum.'\n",
    ")"
   ]
  },
  {
   "cell_type": "code",
   "execution_count": 4,
   "id": "70d05136",
   "metadata": {},
   "outputs": [
    {
     "name": "stdout",
     "output_type": "stream",
     "text": [
      "Boot.dev excels as a backend development learning platform due to its project-based curriculum, interactive coding exercises, and focus on practical skills. It prioritizes hands-on experience over theoretical lectures, allowing learners to build real-world applications and solidify their understanding of core backend concepts like databases, APIs, and authentication. The platform also offers personalized feedback, a supportive community, and a structured learning path that guides beginners to becoming proficient backend developers.\n",
      "\n",
      "prompt tokens: 19\n",
      "Response tokens: 89\n"
     ]
    }
   ],
   "source": [
    "print(response.text)\n",
    "print(f\"prompt tokens: {response.usage_metadata.prompt_token_count}\")\n",
    "print(f\"Response tokens: {response.usage_metadata.candidates_token_count}\")"
   ]
  }
 ],
 "metadata": {
  "kernelspec": {
   "display_name": ".venv",
   "language": "python",
   "name": "python3"
  },
  "language_info": {
   "codemirror_mode": {
    "name": "ipython",
    "version": 3
   },
   "file_extension": ".py",
   "mimetype": "text/x-python",
   "name": "python",
   "nbconvert_exporter": "python",
   "pygments_lexer": "ipython3",
   "version": "3.13.2"
  }
 },
 "nbformat": 4,
 "nbformat_minor": 5
}
